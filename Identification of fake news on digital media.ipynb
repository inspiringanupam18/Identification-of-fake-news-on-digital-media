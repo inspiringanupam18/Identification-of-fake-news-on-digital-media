{
 "cells": [
  {
   "cell_type": "markdown",
   "metadata": {},
   "source": [
    "# Identification of Fake News: A Machine Learning Approach\n",
    "Abstract: Digital media has become the new go-to source for news consumption. It’s easy, convenient, and perfectly suits the on-the-go lifestyle that most people have now a days.\n",
    "\n",
    "But the comfort comes at a price, as people, especially the young ones become very susceptible to half-truths or even absolutely false news propagated with an intention of spreading misinformation.\n",
    "\n",
    "Hence, identifying false and unreliable news has recently become an emerging topic of research that is attracting tremendous attention.\n",
    "\n",
    "The goal with this project is to develop a reliable model that classifies a given news article as either fake or true."
   ]
  },
  {
   "cell_type": "markdown",
   "metadata": {},
   "source": [
    "# Introduction:\n",
    "Fake news is defined as news spreading completely false information with an intention to manipulate or scam the readers.\n",
    "\n",
    "A study conducted in 2018 regarding the spread of true and false news online concludes that “lies spread faster than the truth”, stating that fake news proliferates 6 times faster and reaches 10 times larger audience than the real ones.\n",
    "\n",
    "Information bias as well as the rapid spread of fake news pose a great threat to the reader and are becoming a powerful weapon for gaining peoples’ attention and playing with their emotions. “Fake news” was even named the word of the year by the Macquarie dictionary in 2016.\n",
    "\n",
    "In this project, we present an approach for identifying fake news efficiently that may help cease the spread of misinformation across all digital platforms."
   ]
  },
  {
   "cell_type": "markdown",
   "metadata": {},
   "source": [
    "# Probelm Definition:¶\n",
    "As increasingly a major amount of our day to day lives is spent interacting online through social media platforms, more and more people tend to seek out and consume news from digital media rather than traditional news organizations.\n",
    "\n",
    "However, being the most convenient way of providing news online, it also aids in the dissemination of large volumes of fake news i.e., news articles with intentional false information, which are produced online for a variety of purposes, such as financial and political gain.\n",
    "\n",
    "Hence, a readily available tool to identify false, agenda-driven news concocted by mixing misinformation with inadequate intention is the need of the hour. This is exactly what the proposed system aims to achieve."
   ]
  },
  {
   "cell_type": "markdown",
   "metadata": {},
   "source": [
    "# Solution Strategy:\n",
    "(i) Collection of dataset: The dataset contains various news articles from around the world along with the title of the news article and its author.\n",
    "\n",
    "(ii) Data preprocessing: In this step, various preprocessing methods were applied, and the data was made usable in the required context.\n",
    "\n",
    "(iii) The preprocessed data was fed into the “Doc2Vec” model with some user given parameters, which performs word embedding. Here, the texts were converted into their respective vector representations.\n",
    "\n",
    "(iv) Training of various models: The idea was to train a couple of classification models with the above data. The models include Naïve Bayes and SVM. Also, a neural network-based model was trained.\n",
    "\n",
    "(v) Cross validation: After successfully training the models, those were to be tested on the unseen test data. In this proposed system, the whole dataset was split in the ratio 80:20 using the hold out method. The training data represents the 80% of the complete dataset and the testing was be done on the remaining 20%."
   ]
  },
  {
   "cell_type": "markdown",
   "metadata": {},
   "source": [
    "# Implementation Details:\n"
   ]
  },
  {
   "cell_type": "markdown",
   "metadata": {},
   "source": [
    "## Step 1: Text Preprocessing "
   ]
  },
  {
   "cell_type": "code",
   "execution_count": null,
   "metadata": {},
   "outputs": [],
   "source": [
    "# importing required libraries\n",
    "import numpy as np\n",
    "import re\n",
    "import string\n",
    "import pandas as pd\n",
    "from gensim.models import Doc2Vec\n",
    "from gensim.models.doc2vec import TaggedDocument\n",
    "from gensim import utils\n",
    "from nltk.corpus import stopwords\n",
    "from sklearn.naive_bayes import GaussianNB\n",
    "import matplotlib.pyplot as plt\n",
    "import scikitplot.plotters as skplt\n",
    "import scikitplot.metrics as skplm\n",
    "from sklearn.svm import SVC\n",
    "import keras\n",
    "from keras import backend as K\n",
    "from keras.utils import np_utils\n",
    "from keras.models import Sequential\n",
    "from keras.layers import Dense, Dropout, Embedding, Input, RepeatVector\n",
    "from tensorflow.keras.optimizers import SGD\n",
    "from sklearn.preprocessing import LabelEncoder\n",
    "from sklearn.model_selection import train_test_split\n",
    "\n",
    "\n",
    "# defining functions for text preprocessing\n",
    "# first function for text preprocessing\n",
    "def Data_Cleaning(text):\n",
    "    # using regex to substitute anything except relevant characters like alphabets, numbers etc. with whitespace\n",
    "    text = re.sub(r\"[^A-Za-z0-9^,!.\\/'+-=]\", \" \", text)\n",
    "    \n",
    "    # for convenience, converting all text to lower case\n",
    "    text = text.lower().split()\n",
    "    \n",
    "    # storing all stopwords available in English in a variable called 'stops'\n",
    "    stops = set(stopwords.words(\"english\"))\n",
    "    \n",
    "    # removing all the stopwords from the text and appending the remaining ones in a variable called 'text'\n",
    "    text = [w for w in text if not w in stops]\n",
    "    text = \" \".join(text)\n",
    "    return (text)\n",
    "\n",
    "# second function for text preprocessing\n",
    "def Final_Cleanup(text):\n",
    "    text = Data_Cleaning(text)\n",
    "    text = text.translate(str.maketrans(\"\", \"\", string.punctuation))\n",
    "    return text\n",
    "\n",
    "# third function for text preprocessing\n",
    "def Construct_TaggedDocument(data):\n",
    "    sentences = []\n",
    "    \n",
    "    for index, row in data.iteritems():\n",
    "        sentences.append(TaggedDocument(utils.to_unicode(row).split(), ['Text' + '_%s' % str(index)]))\n",
    "    return sentences"
   ]
  },
  {
   "cell_type": "markdown",
   "metadata": {},
   "source": [
    "## Step 2: Feature Extraction "
   ]
  },
  {
   "cell_type": "code",
   "execution_count": null,
   "metadata": {},
   "outputs": [],
   "source": [
    "# defining a function to extract a feature vector of 300 dimensions out of every paragraph\n",
    "def Embeddings(path,vector_dimension=300):\n",
    "    data = pd.read_csv(path)\n",
    "\n",
    "    missing_rows = []\n",
    "    for i in range(len(data)):\n",
    "        if data.loc[i, 'text'] != data.loc[i, 'text']:\n",
    "            missing_rows.append(i)\n",
    "    data = data.drop(missing_rows).reset_index().drop(['index','id'],axis=1)\n",
    "\n",
    "    for i in range(len(data)):\n",
    "        data.loc[i, 'text'] = Final_Cleanup(data.loc[i,'text'])\n",
    "    \n",
    "\n",
    "    x = Construct_TaggedDocument(data['text'])\n",
    "    y = data['label'].values\n",
    "\n",
    "    text_model = Doc2Vec(min_count=1, window=5, vector_size=vector_dimension, sample=1e-4, negative=5, workers=7, epochs=10,\n",
    "                         seed=1)\n",
    "    text_model.build_vocab(x)\n",
    "    \n",
    "    text_model.train(x, total_examples=text_model.corpus_count, epochs=text_model.iter)\n",
    "\n",
    "    train_size = int(0.8 * len(x))\n",
    "    test_size = len(x) - train_size\n",
    "\n",
    "    text_train_arrays = np.zeros((train_size, vector_dimension))\n",
    "    text_test_arrays = np.zeros((test_size, vector_dimension))\n",
    "    train_labels = np.zeros(train_size)\n",
    "    test_labels = np.zeros(test_size)\n",
    "\n",
    "    for i in range(train_size):\n",
    "        text_train_arrays[i] = text_model.docvecs['Text_' + str(i)]\n",
    "        train_labels[i] = y[i]\n",
    "\n",
    "    j = 0\n",
    "    for i in range(train_size, train_size + test_size):\n",
    "        text_test_arrays[j] = text_model.docvecs['Text_' + str(i)]\n",
    "        test_labels[j] = y[i]\n",
    "        j = j + 1\n",
    "\n",
    "    return text_train_arrays, text_test_arrays, train_labels, test_labels\n",
    "    "
   ]
  },
  {
   "cell_type": "markdown",
   "metadata": {},
   "source": [
    "# Model Training and evaluation"
   ]
  },
  {
   "cell_type": "markdown",
   "metadata": {},
   "source": [
    "## Model 1: Naive Bayes"
   ]
  },
  {
   "cell_type": "code",
   "execution_count": null,
   "metadata": {},
   "outputs": [],
   "source": [
    "def plot_cmatrix(yte, ypred):\n",
    "    '''Plotting the confusion matrix'''\n",
    "    skplm.plot_confusion_matrix(yte,ypred)\n",
    "    plt.show()\n",
    "\n",
    "\n",
    "xtr,xte,ytr,yte = Embeddings(\"train.csv\")\n",
    "np.save('./xtr', xtr)\n",
    "np.save('./xte', xte)\n",
    "np.save('./ytr', ytr)\n",
    "np.save('./yte', yte)\n",
    "\n",
    "xtr = np.load('./xtr.npy')\n",
    "xte = np.load('./xte.npy')\n",
    "ytr = np.load('./ytr.npy')\n",
    "yte = np.load('./yte.npy')\n",
    "\n",
    "gnb = GaussianNB()\n",
    "gnb.fit(xtr,ytr)\n",
    "y_pred = gnb.predict(xte)\n",
    "m = yte.shape[0]\n",
    "n = (yte != y_pred).sum()\n",
    "print(\"Congratulations,Your Model Has Been Trained!\")\n",
    "print(\"\")\n",
    "print(\"Accuracy = \" + format((m-n)/m*100, '.2f') + \"%\")   # 72.26%\n",
    "\n",
    "plot_cmatrix(yte, y_pred)"
   ]
  },
  {
   "cell_type": "markdown",
   "metadata": {},
   "source": [
    "# Model Training and evaluation continued..."
   ]
  },
  {
   "cell_type": "markdown",
   "metadata": {},
   "source": [
    "## Model 2: Support Vector Machine"
   ]
  },
  {
   "cell_type": "code",
   "execution_count": null,
   "metadata": {},
   "outputs": [],
   "source": [
    "def plot_cmatrix(yte, ypred):\n",
    "    '''Plotting the confusion matrix'''\n",
    "    skplm.plot_confusion_matrix(yte,ypred)\n",
    "    plt.show()\n",
    "\n",
    "\n",
    "xtr,xte,ytr,yte = Embeddings(\"train.csv\")\n",
    "np.save('./xtr', xtr)\n",
    "np.save('./xte', xte)\n",
    "np.save('./ytr', ytr)\n",
    "np.save('./yte', yte)\n",
    "\n",
    "xtr = np.load('./xtr.npy')\n",
    "xte = np.load('./xte.npy')\n",
    "ytr = np.load('./ytr.npy')\n",
    "yte = np.load('./yte.npy')\n",
    "\n",
    "clf = SVC()\n",
    "clf.fit(xtr, ytr)\n",
    "y_pred = clf.predict(xte)\n",
    "m = yte.shape[0]\n",
    "n = (yte != y_pred).sum()\n",
    "print(\"Congratulations,Your Model Has Been Trained!\")\n",
    "print(\"\")\n",
    "print(\"Accuracy = \" + format((m-n)/m*100, '.2f') + \"%\")   # 91.71%\n",
    "\n",
    "plot_cmatrix(yte, y_pred)\n"
   ]
  },
  {
   "cell_type": "markdown",
   "metadata": {},
   "source": [
    "# Model training and evaluation continued..."
   ]
  },
  {
   "cell_type": "markdown",
   "metadata": {},
   "source": [
    "## Model 3: A Neural Network with 3 hidden layers"
   ]
  },
  {
   "cell_type": "code",
   "execution_count": null,
   "metadata": {},
   "outputs": [],
   "source": [
    "def plot_cmatrix(yte, ypred):\n",
    "    '''Plotting the confusion matrix'''\n",
    "    skplm.plot_confusion_matrix(yte,ypred)\n",
    "    plt.show()\n",
    "\n",
    "\n",
    "xtr,xte,ytr,yte = Embeddings(\"train.csv\")\n",
    "np.save('./xtr', xtr)\n",
    "np.save('./xte', xte)\n",
    "np.save('./ytr', ytr)\n",
    "np.save('./yte', yte)\n",
    "\n",
    "xtr = np.load('./xtr.npy')\n",
    "xte = np.load('./xte.npy')\n",
    "ytr = np.load('./ytr.npy')\n",
    "yte = np.load('./yte.npy')\n",
    "\n",
    "\n",
    "def baseline_model():\n",
    "    '''Neural network(h3)'''\n",
    "#     regularization: to make a model work well on both the training and testing data. Most common problem is overfitting.\n",
    "#     tackling overfitting: The most interesting type of regularization is dropout.\n",
    "#     dropout produces very good results and consequently, is the most frequently used regularization technique in deep learning\n",
    "#     let's say that we have a neural network with 2 hidden layers. At every iteration, dropout randomly selects some nodes\n",
    "#     and removes them along with their incoming and outgoing connections.\n",
    "#     so, each iteration has a different set of nodes and this results in different sets of outputs.\n",
    "#     these models usually perform better as they capture more randomness, and they memorize less of the training data\n",
    "#     and hence are forced to generalize better and build a more robust predictive model.\n",
    "    \n",
    "    model = Sequential()\n",
    "    model.add(Dense(256, input_dim=300, activation='relu', kernel_initializer='normal'))\n",
    "    model.add(Dropout(0.3)) #dropout layer 1\n",
    "    model.add(Dense(256, activation='relu', kernel_initializer='normal'))\n",
    "    model.add(Dropout(0.5)) #dropout layer 2\n",
    "    model.add(Dense(80, activation='relu', kernel_initializer='normal'))\n",
    "    model.add(Dense(2, activation=\"softmax\", kernel_initializer='normal'))\n",
    "\n",
    "#   Using Stochastic Gradient Descent(SGD) as the optimizer\n",
    "#   SGD is like GD, that uses a subset of training examples instead of the entire lot. \n",
    "#   SGD is an implementation of GD that uses batches on each pass\n",
    "#   SGD uses momentum to accumulate gradients\n",
    "#   momentum accumulates the gradients of the past steps to dictate what might happen in the next stpes.\n",
    "#   SGD is less expensive computationally.\n",
    "    \n",
    "    \n",
    "    sgd = SGD(learning_rate=0.01, decay=1e-6, momentum=0.9, nesterov=True)\n",
    "    \n",
    "    # configuring the learning process of the model\n",
    "    #Formally, \"categorical crossentropy\" is designed to quantify the difference between two probability distributions.\n",
    "    model.compile(loss='categorical_crossentropy', optimizer=sgd, metrics=['accuracy'])\n",
    "    return model\n",
    "\n",
    "\n",
    "model = baseline_model()\n",
    "model.summary()\n",
    "x_train, x_test, y_train, y_test = train_test_split(xtr, ytr, test_size=0.2, random_state=42)\n",
    "label_encoder = LabelEncoder()\n",
    "label_encoder.fit(y_train)\n",
    "encoded_y = np_utils.to_categorical((label_encoder.transform(y_train)))\n",
    "label_encoder.fit(y_test)\n",
    "encoded_y_test = np_utils.to_categorical((label_encoder.transform(y_test)))\n",
    "estimator = model.fit(x_train, encoded_y, epochs=20, batch_size=64)\n",
    "print(\"Congratulations,Your Model Has Been Trained!\")\n",
    "score = model.evaluate(x_test, encoded_y_test)\n",
    "print(\"\")\n",
    "print(\"Accuracy = \" + format(score[1]*100, '.2f') + \"%\")   # 92.44%\n",
    "\n",
    "probabs = model.predict(x_test)\n",
    "y_pred = np.argmax(probabs, axis=1)\n",
    " \n",
    "plot_cmatrix(y_test, y_pred)"
   ]
  },
  {
   "cell_type": "markdown",
   "metadata": {},
   "source": [
    "# Conclusion:\n",
    "Since the very beginning, the project had its own ebbs and flows. As students with limited previous exposure to the vast field of study that Machine learning is, it was a learning curve for us more than anything else.\n",
    "\n",
    "Through building our knowledge of Python and Machine learning in a very gradual manner, we took on the project.\n",
    "\n",
    "Out of the three models that were built, the Naive Bayes is a baseline model, which gave an accuracy of 72.26% in identifying fake news from an unseen test dataset, the second model viz. Support Vector Machine gave an exceptional accuracy of 91.71% on the same unseen test dataset, and the final model viz.the Neural network-based model gave an even better accuracy of 92.44%, which topped the list by successfully outperforming the previous two models. Overall, it was a successful project carried out in the right spirit."
   ]
  },
  {
   "cell_type": "markdown",
   "metadata": {},
   "source": [
    "# Limitations:\n",
    "(i) The loss to value of information in a real scenario for news is very high. In the preprocessing steps, in addition to some of the unusable data, a lot of valuable information also gets removed. There is a certain need for better preprocessing approaches.\n",
    "\n",
    "(ii) For a better model, we also will need to incorporate the specific authors who wrote the article, what kind of articles they have written in the past, what are their socio-political views etc., in our model for it to give better results in the future."
   ]
  },
  {
   "cell_type": "markdown",
   "metadata": {},
   "source": [
    "# Future Scope:\n",
    "(i) For the accurate identification of fake news, we can add as features the source of the news, including any associated URLs, the topic of discussion (e.g., sports, music, science, politics etc.), country or geographic region of origin etc., which have not been explored in this project.\n",
    "\n",
    "(ii) Moreover, we can also work upon other classifiers such as LSTM and try to achieve better accuracy.\n",
    "\n",
    "(iii) An audacious work would be to actually deploy our model. Once it's on the web, even people with not-so-sound technical background can identify whether a given news article is fake or not."
   ]
  },
  {
   "cell_type": "markdown",
   "metadata": {},
   "source": [
    "# References:\n",
    "[1] A. P. Sukhodolov and A. M. Bychkova, “Fake news as a modern media phenomenon: definition, types, role of fake news and ways of counteracting it,” Questions of theory and practice of journalism, vol. 6, no. 2, pp. 143–169, 2017.\n",
    "\n",
    "[2] V. Soroush, R. Deb, and A. Sinan, “The spread of true and false news online,” Science, vol. 359, n. 6380, pp. 1146–1151, 2018.\n",
    "\n",
    "[3]The Guardian, “‘Fake News’ named Word of the Year by Macquarie Dictionary.” theguardian.com. https://www.theguardian.com/australia-news/2017/jan/25/fake-news-named-word-of-the-year-by-macquarie-dictionary?CMP=soc_568 (accessed March 10, 2022).\n",
    "\n",
    "[4] Kai Shu; Huan Liu, “Detecting Fake News on Social Media” , Morgan & Claypool, 2019.doi: 10.2200/S00926ED1V01Y201906DMK018\n",
    "\n",
    "[5] Analytics Vidhya, “Text Preprocessing in NLP with Python codes.”analyticsvidhya.com https://www.analyticsvidhya.com/blog/2021/06/text-preprocessing-in-nlp-with-python-codes/ (accessed March 20, 2022)\n",
    "\n",
    "[6] D. Janakieva, G. Mirceva and S. Gievska, \"Fake News Detection by Using Doc2Vec Representation Model and Various Classification Algorithms,\" 2021 44th International Convention on Information, Communication and Electronic Technology (MIPRO), 2021, pp. 223-228, doi: 10.23919/MIPRO52101.2021.9596928.\n",
    "\n",
    "[7] Towards Data Science, “SVM Classifier and RBF Kernel - How to Make Better Models in Python.”towardsdatascience.com. https://towardsdatascience.com/svm-classifier-and-rbf-kernel-how-to-make-better-models-in-python-73bb4914af5b (accessed May 10,2022)\n",
    "\n",
    "[8] Kaggle, “Fake News data.”kaggle.com. https://www.kaggle.com/competitions/fake-news/data (accessed March 15,2022)\n",
    "\n",
    "[9] Cogito Tech, “Machine learning model validation services.”cogitotech.com. https://www.cogitotech.com/ml-model-validation-services (accessed May 7,2022)\n",
    "\n",
    "[10] CodeSpeedy, “Naïve Bayes Algorithm in Python.”codespeedy.com. https://www.codespeedy.com/naive-bayes-algorithm-in-python/ (accessed May 5,2022)\n",
    "\n",
    "[11] GitHub, “Understanding Word2Vec and Doc2Vec.”shuzhanfan.github.io. https://shuzhanfan.github.io/2018/08/understanding-word2vec-and-doc2vec/ (accessed March 25,2022)"
   ]
  }
 ],
 "metadata": {
  "kernelspec": {
   "display_name": "Python 3",
   "language": "python",
   "name": "python3"
  },
  "language_info": {
   "codemirror_mode": {
    "name": "ipython",
    "version": 3
   },
   "file_extension": ".py",
   "mimetype": "text/x-python",
   "name": "python",
   "nbconvert_exporter": "python",
   "pygments_lexer": "ipython3",
   "version": "3.8.5"
  }
 },
 "nbformat": 4,
 "nbformat_minor": 4
}
